{
 "cells": [
  {
   "cell_type": "code",
   "execution_count": 187,
   "id": "a4a6362f",
   "metadata": {},
   "outputs": [],
   "source": [
    "import pandas as pd\n",
    "import numpy as np\n",
    "\n",
    "\n",
    "train=pd.read_csv('cs-training.csv')\n",
    "test=pd.read_csv('cs-test.csv')\n",
    "\n"
   ]
  },
  {
   "cell_type": "code",
   "execution_count": 188,
   "id": "d2f09923",
   "metadata": {},
   "outputs": [],
   "source": [
    "## Check the columns with outliers or control risks to revise the train data for the modeling.\n",
    "## The columns to be assessed are those 8 columns\n",
    "#1.'RevolvingUtilizationOfUnsecuredLines'\n",
    "#2. 'Age'\n",
    "#3. 'DebtRatio'\n",
    "#4. 'MonthlyIncome'\n",
    "#5. 'NumberOfDependents'\n",
    "#6. 'NumberOfTime30-59DaysPastDueNotWorse'\n",
    "#7. 'NumberOfTime60-89DaysPastDueNotWorse'\n",
    "#8. 'NumberOfTimes90DaysLate'"
   ]
  },
  {
   "cell_type": "code",
   "execution_count": 189,
   "id": "dd7536a1",
   "metadata": {},
   "outputs": [
    {
     "data": {
      "text/plain": [
       "count    150000.000000\n",
       "mean          6.048438\n",
       "std         249.755371\n",
       "min           0.000000\n",
       "25%           0.029867\n",
       "50%           0.154181\n",
       "75%           0.559046\n",
       "max       50708.000000\n",
       "Name: RevolvingUtilizationOfUnsecuredLines, dtype: float64"
      ]
     },
     "execution_count": 189,
     "metadata": {},
     "output_type": "execute_result"
    }
   ],
   "source": [
    "## Assessment 1 - Revolving Utilization of Unsecured Lines\n",
    "\n",
    "train['RevolvingUtilizationOfUnsecuredLines'].describe()"
   ]
  },
  {
   "cell_type": "code",
   "execution_count": 190,
   "id": "03218fec",
   "metadata": {},
   "outputs": [
    {
     "data": {
      "text/plain": [
       "count    101503.000000\n",
       "mean          5.310000\n",
       "std         196.156039\n",
       "min           0.000000\n",
       "25%           0.030131\n",
       "50%           0.152586\n",
       "75%           0.564225\n",
       "max       21821.000000\n",
       "Name: RevolvingUtilizationOfUnsecuredLines, dtype: float64"
      ]
     },
     "execution_count": 190,
     "metadata": {},
     "output_type": "execute_result"
    }
   ],
   "source": [
    "test['RevolvingUtilizationOfUnsecuredLines'].describe()\n",
    "\n",
    "## Both train & test data has Revolving Utilization of Unsecured Lines over 1.\n",
    "## Though it implies the organization has credit limit control risk,\n",
    "#  we need to use the data since the risk actually lies in the organization."
   ]
  },
  {
   "cell_type": "code",
   "execution_count": 191,
   "id": "6db1befb",
   "metadata": {},
   "outputs": [
    {
     "data": {
      "text/plain": [
       "count    150000.000000\n",
       "mean         52.295207\n",
       "std          14.771866\n",
       "min           0.000000\n",
       "25%          41.000000\n",
       "50%          52.000000\n",
       "75%          63.000000\n",
       "max         109.000000\n",
       "Name: age, dtype: float64"
      ]
     },
     "execution_count": 191,
     "metadata": {},
     "output_type": "execute_result"
    }
   ],
   "source": [
    "## Assessment 2 - Age\n",
    "\n",
    "train['age'].describe()"
   ]
  },
  {
   "cell_type": "code",
   "execution_count": 192,
   "id": "68fbce84",
   "metadata": {},
   "outputs": [
    {
     "data": {
      "text/plain": [
       "count    101503.000000\n",
       "mean         52.405436\n",
       "std          14.779756\n",
       "min          21.000000\n",
       "25%          41.000000\n",
       "50%          52.000000\n",
       "75%          63.000000\n",
       "max         104.000000\n",
       "Name: age, dtype: float64"
      ]
     },
     "execution_count": 192,
     "metadata": {},
     "output_type": "execute_result"
    }
   ],
   "source": [
    "test['age'].describe()\n",
    "\n",
    "# The train data has an age value under 19, which is 0.\n",
    "# The minimum age of test data is 21.\n",
    "# Therefore, it is adequate to remove age = 0 line in the test data for the better tuned modeling."
   ]
  },
  {
   "cell_type": "code",
   "execution_count": 193,
   "id": "d06a35c3",
   "metadata": {},
   "outputs": [
    {
     "data": {
      "text/plain": [
       "count    150000.000000\n",
       "mean        353.005076\n",
       "std        2037.818523\n",
       "min           0.000000\n",
       "25%           0.175074\n",
       "50%           0.366508\n",
       "75%           0.868254\n",
       "max      329664.000000\n",
       "Name: DebtRatio, dtype: float64"
      ]
     },
     "execution_count": 193,
     "metadata": {},
     "output_type": "execute_result"
    }
   ],
   "source": [
    "## Assessment 3 - Debt Ratio\n",
    "\n",
    "train['DebtRatio'].describe()"
   ]
  },
  {
   "cell_type": "code",
   "execution_count": 194,
   "id": "7107e751",
   "metadata": {},
   "outputs": [
    {
     "data": {
      "text/plain": [
       "count    101503.000000\n",
       "mean        344.475020\n",
       "std        1632.595231\n",
       "min           0.000000\n",
       "25%           0.173423\n",
       "50%           0.364260\n",
       "75%           0.851619\n",
       "max      268326.000000\n",
       "Name: DebtRatio, dtype: float64"
      ]
     },
     "execution_count": 194,
     "metadata": {},
     "output_type": "execute_result"
    }
   ],
   "source": [
    "test['DebtRatio'].describe()\n",
    "\n",
    "# Both train & test data has Revolving Utilization of Unsecured Lines over 1.\n",
    "# Though it implies the organization has Debt to Income control risk,\n",
    "#  we need to use the data since the risk actually lies in the organization."
   ]
  },
  {
   "cell_type": "code",
   "execution_count": 195,
   "id": "88b5680d",
   "metadata": {},
   "outputs": [
    {
     "name": "stdout",
     "output_type": "stream",
     "text": [
      "29731\n",
      "20103\n"
     ]
    }
   ],
   "source": [
    "## Assessment 4 - Monthly Income-missing value\n",
    "\n",
    "null_counts_MonthlyIncome_train = train.MonthlyIncome.isna().sum()\n",
    "print(null_counts_MonthlyIncome_train)\n",
    "\n",
    "null_counts_MonthlyIncome_test = test.MonthlyIncome.isna().sum()\n",
    "print(null_counts_MonthlyIncome_test)\n"
   ]
  },
  {
   "cell_type": "code",
   "execution_count": 196,
   "id": "927712e7",
   "metadata": {},
   "outputs": [
    {
     "name": "stdout",
     "output_type": "stream",
     "text": [
      "Median Monthly Income for Train: 5400.0\n",
      "Median Monthly Income for Test: 5400.0\n"
     ]
    }
   ],
   "source": [
    "# Remove rows with null values in 'MonthlyIncome' from train\n",
    "train_dropna_MonthlyIncome = train.dropna(subset=['MonthlyIncome'])\n",
    "\n",
    "# Calculate the median of the 'MonthlyIncome' column for train\n",
    "median_monthly_income_train = train_cleaned['MonthlyIncome'].median()\n",
    "\n",
    "\n",
    "# Remove rows with null values in 'MonthlyIncome' from test\n",
    "test_dropna_MonthlyIncome = test.dropna(subset=['MonthlyIncome'])\n",
    "\n",
    "# Calculate the median of the 'MonthlyIncome' column for test\n",
    "median_monthly_income_test = test_cleaned['MonthlyIncome'].median()\n",
    "\n",
    "print(\"Median Monthly Income for Train:\", median_monthly_income_train)\n",
    "print(\"Median Monthly Income for Test:\", median_monthly_income_test)"
   ]
  },
  {
   "cell_type": "code",
   "execution_count": 197,
   "id": "4bcf8cee",
   "metadata": {},
   "outputs": [
    {
     "name": "stdout",
     "output_type": "stream",
     "text": [
      "Median Monthly Income_train: 5400.0\n"
     ]
    }
   ],
   "source": [
    "#Replace the missing value in the training data with 5400\n",
    "\n",
    "train['MonthlyIncome'].fillna(5400, inplace=True)\n",
    "\n",
    "# Calculate the median of the 'MonthlyIncome' column\n",
    "median_monthly_income_train = train['MonthlyIncome'].median()\n",
    "\n",
    "print(\"Median Monthly Income_train:\", median_monthly_income_train)"
   ]
  },
  {
   "cell_type": "code",
   "execution_count": 198,
   "id": "b0b535ab",
   "metadata": {},
   "outputs": [
    {
     "name": "stdout",
     "output_type": "stream",
     "text": [
      "Median Monthly Income_test: 5400.0\n"
     ]
    }
   ],
   "source": [
    "#Replace the missing value in the test data with 5400\n",
    "\n",
    "test['MonthlyIncome'].fillna(5400, inplace=True)\n",
    "\n",
    "# Calculate the median of the 'MonthlyIncome' column\n",
    "median_monthly_income_test = test['MonthlyIncome'].median()\n",
    "\n",
    "print(\"Median Monthly Income_test:\", median_monthly_income_test)"
   ]
  },
  {
   "cell_type": "code",
   "execution_count": 199,
   "id": "4f986bd7",
   "metadata": {},
   "outputs": [
    {
     "name": "stdout",
     "output_type": "stream",
     "text": [
      "3924\n",
      "2626\n"
     ]
    }
   ],
   "source": [
    "## Assessment 5 - NumberOfDependents-missing value\n",
    "\n",
    "null_counts_NumberOfDependents_train = train.NumberOfDependents.isna().sum()\n",
    "print(null_counts_NumberOfDependents_train)\n",
    "\n",
    "null_counts_NumberOfDependents_test = test.NumberOfDependents.isna().sum()\n",
    "print(null_counts_NumberOfDependents_test)\n"
   ]
  },
  {
   "cell_type": "code",
   "execution_count": 200,
   "id": "62a6449e",
   "metadata": {},
   "outputs": [
    {
     "name": "stdout",
     "output_type": "stream",
     "text": [
      "Median Number Of Dependents for Train: 0.0\n",
      "Median Number O fDependents for Test: 0.0\n"
     ]
    }
   ],
   "source": [
    "# Remove rows with null values in 'NumberOfDependents' from train\n",
    "train_dropna_dependents = train.dropna(subset=['NumberOfDependents'])\n",
    "\n",
    "# Calculate the median of the 'NumberOfDependents' column for train\n",
    "median_monthly_income_train = train_cleaned['NumberOfDependents'].median()\n",
    "\n",
    "\n",
    "# Remove rows with null values in 'NumberOfDependents' from test\n",
    "test_dropna_dependents = test.dropna(subset=['NumberOfDependents'])\n",
    "\n",
    "# Calculate the median of the 'NumberOfDependents' column for test\n",
    "median_monthly_income_test = test_cleaned['NumberOfDependents'].median()\n",
    "\n",
    "print(\"Median Number Of Dependents for Train:\", median_monthly_income_train)\n",
    "print(\"Median Number O fDependents for Test:\", median_monthly_income_test)"
   ]
  },
  {
   "cell_type": "code",
   "execution_count": 201,
   "id": "3538f53a",
   "metadata": {},
   "outputs": [
    {
     "name": "stdout",
     "output_type": "stream",
     "text": [
      "Median NumberOfDependents_train: 0.0\n"
     ]
    }
   ],
   "source": [
    "#Replace the missing value in the training data with 0\n",
    "\n",
    "train['NumberOfDependents'].fillna(0, inplace=True)\n",
    "\n",
    "# Calculate the median of the 'NumberOfDependents' column\n",
    "median_NumberOfDependents_train = train['NumberOfDependents'].median()\n",
    "\n",
    "print(\"Median NumberOfDependents_train:\", median_NumberOfDependents_train)"
   ]
  },
  {
   "cell_type": "code",
   "execution_count": 202,
   "id": "57348e38",
   "metadata": {},
   "outputs": [
    {
     "name": "stdout",
     "output_type": "stream",
     "text": [
      "Median NumberOfDependents_test: 0.0\n"
     ]
    }
   ],
   "source": [
    "#Replace the missing value in the test data with 0\n",
    "\n",
    "test['NumberOfDependents'].fillna(0, inplace=True)\n",
    "\n",
    "# Calculate the median of the 'NumberOfDependents' column\n",
    "median_NumberOfDependents_test = test['NumberOfDependents'].median()\n",
    "\n",
    "print(\"Median NumberOfDependents_test:\", median_NumberOfDependents_test)"
   ]
  },
  {
   "cell_type": "code",
   "execution_count": 203,
   "id": "fd028491",
   "metadata": {},
   "outputs": [
    {
     "data": {
      "text/plain": [
       "count    150000.000000\n",
       "mean          0.421033\n",
       "std           4.192781\n",
       "min           0.000000\n",
       "25%           0.000000\n",
       "50%           0.000000\n",
       "75%           0.000000\n",
       "max          98.000000\n",
       "Name: NumberOfTime30-59DaysPastDueNotWorse, dtype: float64"
      ]
     },
     "execution_count": 203,
     "metadata": {},
     "output_type": "execute_result"
    }
   ],
   "source": [
    "## Assessment 6 - NumberOfTime30-59DaysPastDueNotWorse\n",
    "\n",
    "train['NumberOfTime30-59DaysPastDueNotWorse'].describe()"
   ]
  },
  {
   "cell_type": "code",
   "execution_count": 204,
   "id": "46392aa5",
   "metadata": {},
   "outputs": [
    {
     "data": {
      "text/plain": [
       "count    101503.000000\n",
       "mean          0.453770\n",
       "std           4.538487\n",
       "min           0.000000\n",
       "25%           0.000000\n",
       "50%           0.000000\n",
       "75%           0.000000\n",
       "max          98.000000\n",
       "Name: NumberOfTime30-59DaysPastDueNotWorse, dtype: float64"
      ]
     },
     "execution_count": 204,
     "metadata": {},
     "output_type": "execute_result"
    }
   ],
   "source": [
    "test['NumberOfTime30-59DaysPastDueNotWorse'].describe()\n",
    "\n",
    "# Both have extra ordinary often past due history and implies the internal control risks.\n",
    "# But we need to use the data since the risk actually lies in the organization."
   ]
  },
  {
   "cell_type": "code",
   "execution_count": 205,
   "id": "9a13365a",
   "metadata": {},
   "outputs": [
    {
     "data": {
      "text/plain": [
       "count    150000.000000\n",
       "mean          0.240387\n",
       "std           4.155179\n",
       "min           0.000000\n",
       "25%           0.000000\n",
       "50%           0.000000\n",
       "75%           0.000000\n",
       "max          98.000000\n",
       "Name: NumberOfTime60-89DaysPastDueNotWorse, dtype: float64"
      ]
     },
     "execution_count": 205,
     "metadata": {},
     "output_type": "execute_result"
    }
   ],
   "source": [
    "## Assessment 7 - NumberOfTime60-89DaysPastDueNotWorse\n",
    "\n",
    "train['NumberOfTime60-89DaysPastDueNotWorse'].describe()"
   ]
  },
  {
   "cell_type": "code",
   "execution_count": 206,
   "id": "cb3a4fdb",
   "metadata": {},
   "outputs": [
    {
     "data": {
      "text/plain": [
       "count    101503.000000\n",
       "mean          0.270317\n",
       "std           4.503578\n",
       "min           0.000000\n",
       "25%           0.000000\n",
       "50%           0.000000\n",
       "75%           0.000000\n",
       "max          98.000000\n",
       "Name: NumberOfTime60-89DaysPastDueNotWorse, dtype: float64"
      ]
     },
     "execution_count": 206,
     "metadata": {},
     "output_type": "execute_result"
    }
   ],
   "source": [
    "test['NumberOfTime60-89DaysPastDueNotWorse'].describe()\n",
    "\n",
    "# Both have extra ordinary often past due history and implies the internal control risks.\n",
    "# But we need to use the data since the risk actually lies in the organization."
   ]
  },
  {
   "cell_type": "code",
   "execution_count": 207,
   "id": "78c5b483",
   "metadata": {},
   "outputs": [
    {
     "data": {
      "text/plain": [
       "count    150000.000000\n",
       "mean          0.265973\n",
       "std           4.169304\n",
       "min           0.000000\n",
       "25%           0.000000\n",
       "50%           0.000000\n",
       "75%           0.000000\n",
       "max          98.000000\n",
       "Name: NumberOfTimes90DaysLate, dtype: float64"
      ]
     },
     "execution_count": 207,
     "metadata": {},
     "output_type": "execute_result"
    }
   ],
   "source": [
    "## Assessment 8 - NumberOfTimes90DaysLate\n",
    "train['NumberOfTimes90DaysLate'].describe()"
   ]
  },
  {
   "cell_type": "code",
   "execution_count": 208,
   "id": "083cdfe0",
   "metadata": {},
   "outputs": [
    {
     "data": {
      "text/plain": [
       "count    101503.000000\n",
       "mean          0.296691\n",
       "std           4.515859\n",
       "min           0.000000\n",
       "25%           0.000000\n",
       "50%           0.000000\n",
       "75%           0.000000\n",
       "max          98.000000\n",
       "Name: NumberOfTimes90DaysLate, dtype: float64"
      ]
     },
     "execution_count": 208,
     "metadata": {},
     "output_type": "execute_result"
    }
   ],
   "source": [
    "test['NumberOfTimes90DaysLate'].describe()\n",
    "\n",
    "# Both have extra ordinary often past due history and implies the internal control risks.\n",
    "# But we need to use the data since the risk actually lies in the organization."
   ]
  },
  {
   "cell_type": "code",
   "execution_count": 209,
   "id": "81e6924d",
   "metadata": {},
   "outputs": [
    {
     "data": {
      "text/plain": [
       "count    149999.000000\n",
       "mean         52.295555\n",
       "std          14.771298\n",
       "min          21.000000\n",
       "25%          41.000000\n",
       "50%          52.000000\n",
       "75%          63.000000\n",
       "max         109.000000\n",
       "Name: age, dtype: float64"
      ]
     },
     "execution_count": 209,
     "metadata": {},
     "output_type": "execute_result"
    }
   ],
   "source": [
    "## Remove Age = 0 line in the train data before the modeling.\n",
    "\n",
    "train_Final = train[train['age'] != 0]\n",
    "train_Final['age'].describe()"
   ]
  },
  {
   "cell_type": "code",
   "execution_count": 210,
   "id": "33cadbf1",
   "metadata": {},
   "outputs": [
    {
     "data": {
      "text/html": [
       "<div>\n",
       "<style scoped>\n",
       "    .dataframe tbody tr th:only-of-type {\n",
       "        vertical-align: middle;\n",
       "    }\n",
       "\n",
       "    .dataframe tbody tr th {\n",
       "        vertical-align: top;\n",
       "    }\n",
       "\n",
       "    .dataframe thead th {\n",
       "        text-align: right;\n",
       "    }\n",
       "</style>\n",
       "<table border=\"1\" class=\"dataframe\">\n",
       "  <thead>\n",
       "    <tr style=\"text-align: right;\">\n",
       "      <th></th>\n",
       "      <th>Unnamed: 0</th>\n",
       "      <th>SeriousDlqin2yrs</th>\n",
       "      <th>RevolvingUtilizationOfUnsecuredLines</th>\n",
       "      <th>age</th>\n",
       "      <th>NumberOfTime30-59DaysPastDueNotWorse</th>\n",
       "      <th>DebtRatio</th>\n",
       "      <th>MonthlyIncome</th>\n",
       "      <th>NumberOfOpenCreditLinesAndLoans</th>\n",
       "      <th>NumberOfTimes90DaysLate</th>\n",
       "      <th>NumberRealEstateLoansOrLines</th>\n",
       "      <th>NumberOfTime60-89DaysPastDueNotWorse</th>\n",
       "      <th>NumberOfDependents</th>\n",
       "    </tr>\n",
       "  </thead>\n",
       "  <tbody>\n",
       "    <tr>\n",
       "      <th>count</th>\n",
       "      <td>149999.000000</td>\n",
       "      <td>149999.000000</td>\n",
       "      <td>149999.000000</td>\n",
       "      <td>149999.000000</td>\n",
       "      <td>149999.000000</td>\n",
       "      <td>149999.000000</td>\n",
       "      <td>1.499990e+05</td>\n",
       "      <td>149999.000000</td>\n",
       "      <td>149999.000000</td>\n",
       "      <td>149999.000000</td>\n",
       "      <td>149999.000000</td>\n",
       "      <td>149999.000000</td>\n",
       "    </tr>\n",
       "    <tr>\n",
       "      <th>mean</th>\n",
       "      <td>75000.562030</td>\n",
       "      <td>0.066840</td>\n",
       "      <td>6.048472</td>\n",
       "      <td>52.295555</td>\n",
       "      <td>0.421029</td>\n",
       "      <td>353.007426</td>\n",
       "      <td>6.418458e+03</td>\n",
       "      <td>8.452776</td>\n",
       "      <td>0.265975</td>\n",
       "      <td>1.018233</td>\n",
       "      <td>0.240388</td>\n",
       "      <td>0.737405</td>\n",
       "    </tr>\n",
       "    <tr>\n",
       "      <th>std</th>\n",
       "      <td>43301.552202</td>\n",
       "      <td>0.249746</td>\n",
       "      <td>249.756203</td>\n",
       "      <td>14.771298</td>\n",
       "      <td>4.192795</td>\n",
       "      <td>2037.825113</td>\n",
       "      <td>1.289044e+04</td>\n",
       "      <td>5.145964</td>\n",
       "      <td>4.169318</td>\n",
       "      <td>1.129772</td>\n",
       "      <td>4.155193</td>\n",
       "      <td>1.107020</td>\n",
       "    </tr>\n",
       "    <tr>\n",
       "      <th>min</th>\n",
       "      <td>1.000000</td>\n",
       "      <td>0.000000</td>\n",
       "      <td>0.000000</td>\n",
       "      <td>21.000000</td>\n",
       "      <td>0.000000</td>\n",
       "      <td>0.000000</td>\n",
       "      <td>0.000000e+00</td>\n",
       "      <td>0.000000</td>\n",
       "      <td>0.000000</td>\n",
       "      <td>0.000000</td>\n",
       "      <td>0.000000</td>\n",
       "      <td>0.000000</td>\n",
       "    </tr>\n",
       "    <tr>\n",
       "      <th>25%</th>\n",
       "      <td>37500.500000</td>\n",
       "      <td>0.000000</td>\n",
       "      <td>0.029867</td>\n",
       "      <td>41.000000</td>\n",
       "      <td>0.000000</td>\n",
       "      <td>0.175074</td>\n",
       "      <td>3.903000e+03</td>\n",
       "      <td>5.000000</td>\n",
       "      <td>0.000000</td>\n",
       "      <td>0.000000</td>\n",
       "      <td>0.000000</td>\n",
       "      <td>0.000000</td>\n",
       "    </tr>\n",
       "    <tr>\n",
       "      <th>50%</th>\n",
       "      <td>75001.000000</td>\n",
       "      <td>0.000000</td>\n",
       "      <td>0.154176</td>\n",
       "      <td>52.000000</td>\n",
       "      <td>0.000000</td>\n",
       "      <td>0.366503</td>\n",
       "      <td>5.400000e+03</td>\n",
       "      <td>8.000000</td>\n",
       "      <td>0.000000</td>\n",
       "      <td>1.000000</td>\n",
       "      <td>0.000000</td>\n",
       "      <td>0.000000</td>\n",
       "    </tr>\n",
       "    <tr>\n",
       "      <th>75%</th>\n",
       "      <td>112500.500000</td>\n",
       "      <td>0.000000</td>\n",
       "      <td>0.559044</td>\n",
       "      <td>63.000000</td>\n",
       "      <td>0.000000</td>\n",
       "      <td>0.868257</td>\n",
       "      <td>7.400000e+03</td>\n",
       "      <td>11.000000</td>\n",
       "      <td>0.000000</td>\n",
       "      <td>2.000000</td>\n",
       "      <td>0.000000</td>\n",
       "      <td>1.000000</td>\n",
       "    </tr>\n",
       "    <tr>\n",
       "      <th>max</th>\n",
       "      <td>150000.000000</td>\n",
       "      <td>1.000000</td>\n",
       "      <td>50708.000000</td>\n",
       "      <td>109.000000</td>\n",
       "      <td>98.000000</td>\n",
       "      <td>329664.000000</td>\n",
       "      <td>3.008750e+06</td>\n",
       "      <td>58.000000</td>\n",
       "      <td>98.000000</td>\n",
       "      <td>54.000000</td>\n",
       "      <td>98.000000</td>\n",
       "      <td>20.000000</td>\n",
       "    </tr>\n",
       "  </tbody>\n",
       "</table>\n",
       "</div>"
      ],
      "text/plain": [
       "          Unnamed: 0  SeriousDlqin2yrs  RevolvingUtilizationOfUnsecuredLines  \\\n",
       "count  149999.000000     149999.000000                         149999.000000   \n",
       "mean    75000.562030          0.066840                              6.048472   \n",
       "std     43301.552202          0.249746                            249.756203   \n",
       "min         1.000000          0.000000                              0.000000   \n",
       "25%     37500.500000          0.000000                              0.029867   \n",
       "50%     75001.000000          0.000000                              0.154176   \n",
       "75%    112500.500000          0.000000                              0.559044   \n",
       "max    150000.000000          1.000000                          50708.000000   \n",
       "\n",
       "                 age  NumberOfTime30-59DaysPastDueNotWorse      DebtRatio  \\\n",
       "count  149999.000000                         149999.000000  149999.000000   \n",
       "mean       52.295555                              0.421029     353.007426   \n",
       "std        14.771298                              4.192795    2037.825113   \n",
       "min        21.000000                              0.000000       0.000000   \n",
       "25%        41.000000                              0.000000       0.175074   \n",
       "50%        52.000000                              0.000000       0.366503   \n",
       "75%        63.000000                              0.000000       0.868257   \n",
       "max       109.000000                             98.000000  329664.000000   \n",
       "\n",
       "       MonthlyIncome  NumberOfOpenCreditLinesAndLoans  \\\n",
       "count   1.499990e+05                    149999.000000   \n",
       "mean    6.418458e+03                         8.452776   \n",
       "std     1.289044e+04                         5.145964   \n",
       "min     0.000000e+00                         0.000000   \n",
       "25%     3.903000e+03                         5.000000   \n",
       "50%     5.400000e+03                         8.000000   \n",
       "75%     7.400000e+03                        11.000000   \n",
       "max     3.008750e+06                        58.000000   \n",
       "\n",
       "       NumberOfTimes90DaysLate  NumberRealEstateLoansOrLines  \\\n",
       "count            149999.000000                 149999.000000   \n",
       "mean                  0.265975                      1.018233   \n",
       "std                   4.169318                      1.129772   \n",
       "min                   0.000000                      0.000000   \n",
       "25%                   0.000000                      0.000000   \n",
       "50%                   0.000000                      1.000000   \n",
       "75%                   0.000000                      2.000000   \n",
       "max                  98.000000                     54.000000   \n",
       "\n",
       "       NumberOfTime60-89DaysPastDueNotWorse  NumberOfDependents  \n",
       "count                         149999.000000       149999.000000  \n",
       "mean                               0.240388            0.737405  \n",
       "std                                4.155193            1.107020  \n",
       "min                                0.000000            0.000000  \n",
       "25%                                0.000000            0.000000  \n",
       "50%                                0.000000            0.000000  \n",
       "75%                                0.000000            1.000000  \n",
       "max                               98.000000           20.000000  "
      ]
     },
     "execution_count": 210,
     "metadata": {},
     "output_type": "execute_result"
    }
   ],
   "source": [
    "train_Final.describe()"
   ]
  },
  {
   "cell_type": "code",
   "execution_count": 211,
   "id": "bf9a8fef",
   "metadata": {},
   "outputs": [],
   "source": [
    "##### Create Random Forest Model #####\n",
    "\n",
    "import pandas as pd\n",
    "from sklearn.ensemble import RandomForestClassifier\n",
    "from sklearn.model_selection import train_test_split\n",
    "from sklearn.metrics import accuracy_score\n",
    "\n",
    "\n",
    "\n",
    "# Define features and target\n",
    "features = train_Final.drop('SeriousDlqin2yrs', axis=1)\n",
    "target = train_Final['SeriousDlqin2yrs']"
   ]
  },
  {
   "cell_type": "code",
   "execution_count": 212,
   "id": "d0cc16b9",
   "metadata": {},
   "outputs": [],
   "source": [
    "# Split the data into training and validation sets\n",
    "X_train, X_val, y_train, y_val = train_test_split(features, target, test_size=0.2, random_state=42)"
   ]
  },
  {
   "cell_type": "code",
   "execution_count": 213,
   "id": "947a5294",
   "metadata": {},
   "outputs": [
    {
     "data": {
      "text/plain": [
       "RandomForestClassifier(random_state=42)"
      ]
     },
     "execution_count": 213,
     "metadata": {},
     "output_type": "execute_result"
    }
   ],
   "source": [
    "# Create and train a Random Forest classifier\n",
    "rf_classifier = RandomForestClassifier(random_state=42)\n",
    "rf_classifier.fit(X_train, y_train)"
   ]
  },
  {
   "cell_type": "code",
   "execution_count": 214,
   "id": "64c3a0a6",
   "metadata": {},
   "outputs": [
    {
     "name": "stdout",
     "output_type": "stream",
     "text": [
      "Validation Accuracy: 0.9359\n"
     ]
    }
   ],
   "source": [
    "# Evaluate the model on the validation set\n",
    "val_predictions = rf_classifier.predict(X_val)\n",
    "accuracy = accuracy_score(y_val, val_predictions)\n",
    "print(\"Validation Accuracy:\", accuracy)"
   ]
  },
  {
   "cell_type": "code",
   "execution_count": 215,
   "id": "2a3be87c",
   "metadata": {},
   "outputs": [],
   "source": [
    "# Use the trained model to predict the 'SeriousDlqin2yrs' column in the test data\n",
    "test_features = test.drop('SeriousDlqin2yrs', axis=1)\n",
    "test_predictions = rf_classifier.predict(test_features)"
   ]
  },
  {
   "cell_type": "code",
   "execution_count": 216,
   "id": "fe041ae0",
   "metadata": {},
   "outputs": [],
   "source": [
    "# Add the predictions as a new column in the test data\n",
    "test['Predicted_SeriousDlqin2yrs'] = test_predictions"
   ]
  },
  {
   "cell_type": "code",
   "execution_count": 217,
   "id": "79f0d9e6",
   "metadata": {},
   "outputs": [],
   "source": [
    "# Save the test data with predictions to a CSV file\n",
    "test.to_csv('cs-test-predictions.csv', index=False)"
   ]
  },
  {
   "cell_type": "code",
   "execution_count": null,
   "id": "fe22962d",
   "metadata": {},
   "outputs": [],
   "source": []
  }
 ],
 "metadata": {
  "kernelspec": {
   "display_name": "Python 3 (ipykernel)",
   "language": "python",
   "name": "python3"
  },
  "language_info": {
   "codemirror_mode": {
    "name": "ipython",
    "version": 3
   },
   "file_extension": ".py",
   "mimetype": "text/x-python",
   "name": "python",
   "nbconvert_exporter": "python",
   "pygments_lexer": "ipython3",
   "version": "3.9.13"
  }
 },
 "nbformat": 4,
 "nbformat_minor": 5
}
